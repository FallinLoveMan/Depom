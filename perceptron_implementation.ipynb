{
 "cells": [
  {
   "cell_type": "code",
   "execution_count": 1,
   "metadata": {},
   "outputs": [],
   "source": [
    "import pandas as pd\n",
    "import numpy as np"
   ]
  },
  {
   "cell_type": "code",
   "execution_count": 2,
   "metadata": {},
   "outputs": [],
   "source": [
    "class Perceptron(object):\n",
    "\n",
    "    def __init__(self, eta=1, epochs=100):\n",
    "        self.eta = eta\n",
    "        self.epochs = epochs\n",
    "\n",
    "    def train(self, X, y):\n",
    "\n",
    "        self.w_ = np.zeros(X.shape[1])\n",
    "        self.errors_ = []\n",
    "\n",
    "        for epoch in range(int(self.epochs) + 1):\n",
    "            errors = 0\n",
    "            batch_errors = []\n",
    "\n",
    "            for xi, target in zip(X, y): \n",
    "                pred_error = (target - self.predict(xi))\n",
    "                batch_errors.append(pred_error)\n",
    "                \n",
    "                if pred_error != 0:\n",
    "                    errors = (errors + 1)\n",
    "            \n",
    "            for i in range(X.shape[1]):\n",
    "                self.w_[i] +=  self.eta * np.dot(X[:,i], batch_errors)\n",
    "            \n",
    "            self.errors_.append(errors)\n",
    "        return self \n",
    "\n",
    "    def net_input(self, X):\n",
    "        return np.dot(X, self.w_)\n",
    "\n",
    "    def predict(self, X):\n",
    "        return np.where(self.net_input(X) > 0.0, 1, 0)"
   ]
  },
  {
   "cell_type": "code",
   "execution_count": 3,
   "metadata": {},
   "outputs": [],
   "source": [
    "df = pd.read_csv(\"data/Example.tsv\", sep='\\t', header=None)\n",
    "\n",
    "df.head()\n",
    "\n",
    "y = df.iloc[:, 0].values\n",
    "y = np.where(y == 'A', 1.0, 0.0) #1 for label A, 0 for B\n",
    "X_wo = df.iloc[:, [1,2]].values #Features without ones vector\n",
    "ones = np.ones((X_wo.shape[0]))\n",
    "\n",
    "X = np.ones((X_wo.shape[0],X_wo.shape[1]+1) )#All ones in shape of m, n+1 (+1 for incoming \"ones\" column)\n",
    "X[:,1:] = X_wo #Input Vector"
   ]
  },
  {
   "cell_type": "code",
   "execution_count": 5,
   "metadata": {},
   "outputs": [
    {
     "name": "stdout",
     "output_type": "stream",
     "text": [
      "[288.        -0.608382 248.160772]\n",
      "[200, 152, 94, 107, 89, 268, 95, 91, 87, 88, 89, 87, 92, 111, 94, 113, 88, 240, 93, 89, 90, 89, 94, 89, 98, 233, 94, 88, 88, 88, 90, 86, 92, 100, 293, 96, 90, 87, 86, 93, 91, 90, 90, 92, 212, 95, 93, 83, 86, 90, 96, 108, 97, 149, 96, 132, 93, 175, 99, 87, 91, 114, 97, 146, 93, 129, 92, 173, 99, 87, 90, 107, 97, 167, 93, 92, 97, 233, 96, 90, 84, 89, 90, 89, 102, 86, 269, 95, 91, 85, 88, 90, 88, 93, 107, 93, 125, 93, 206, 97, 90]\n"
     ]
    }
   ],
   "source": [
    "ppn = Perceptron(epochs=100.0, eta=1.0)\n",
    "\n",
    "ppn.train(X,y)\n",
    "\n",
    "print(ppn.w_)\n",
    "print(ppn.errors_)"
   ]
  },
  {
   "cell_type": "code",
   "execution_count": 156,
   "metadata": {},
   "outputs": [],
   "source": []
  },
  {
   "cell_type": "code",
   "execution_count": null,
   "metadata": {},
   "outputs": [],
   "source": []
  }
 ],
 "metadata": {
  "kernelspec": {
   "display_name": "Python 3",
   "language": "python",
   "name": "python3"
  },
  "language_info": {
   "codemirror_mode": {
    "name": "ipython",
    "version": 3
   },
   "file_extension": ".py",
   "mimetype": "text/x-python",
   "name": "python",
   "nbconvert_exporter": "python",
   "pygments_lexer": "ipython3",
   "version": "3.6.9"
  }
 },
 "nbformat": 4,
 "nbformat_minor": 2
}

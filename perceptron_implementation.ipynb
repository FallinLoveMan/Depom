{
 "cells": [
  {
   "cell_type": "code",
   "execution_count": 4,
   "metadata": {},
   "outputs": [],
   "source": [
    "import pandas as pd\n",
    "import numpy as np\n",
    "import argparse"
   ]
  },
  {
   "cell_type": "code",
   "execution_count": 5,
   "metadata": {},
   "outputs": [],
   "source": [
    "class Perceptron(object):\n",
    "\n",
    "    def __init__(self, eta=1, epochs=100):\n",
    "        self.eta = eta\n",
    "        self.epochs = epochs\n",
    "\n",
    "    def train(self, X, y):\n",
    "\n",
    "        self.w_ = np.zeros(X.shape[1])\n",
    "        self.errors_ = []\n",
    "\n",
    "        for epoch in range(int(self.epochs) + 1):\n",
    "            errors = 0\n",
    "            batch_errors = []\n",
    "\n",
    "            for xi, target in zip(X, y): \n",
    "                pred_error = (target - self.predict(xi))\n",
    "                batch_errors.append(pred_error)\n",
    "                \n",
    "                if pred_error != 0:\n",
    "                    errors = (errors + 1)\n",
    "            \n",
    "            for i in range(X.shape[1]):\n",
    "                self.w_[i] +=  self.eta * np.dot(X[:,i], batch_errors)\n",
    "            \n",
    "            self.errors_.append(errors)\n",
    "        return self \n",
    "\n",
    "    def net_input(self, X):\n",
    "        return np.dot(X, self.w_)\n",
    "\n",
    "    def predict(self, X):\n",
    "        return np.where(self.net_input(X) > 0.0, 1, 0)"
   ]
  },
  {
   "cell_type": "code",
   "execution_count": 6,
   "metadata": {},
   "outputs": [],
   "source": [
    "df = pd.read_csv(\"data/Example.tsv\", sep='\\t', header=None)\n",
    "\n",
    "df.head()\n",
    "\n",
    "y = df.iloc[:, 0].values\n",
    "y = np.where(y == 'A', 1.0, 0.0) #1 for label A, 0 for B\n",
    "X_wo = df.iloc[:, [1,2]].values #Features without ones vector\n",
    "ones = np.ones((X_wo.shape[0]))\n",
    "\n",
    "X = np.ones((X_wo.shape[0],X_wo.shape[1]+1) )#All ones in shape of m, n+1 (+1 for incoming \"ones\" column)\n",
    "X[:,1:] = X_wo #Input Vector"
   ]
  },
  {
   "cell_type": "code",
   "execution_count": 7,
   "metadata": {},
   "outputs": [
    {
     "name": "stdout",
     "output_type": "stream",
     "text": [
      "[ 2895.          -555.21432875 -1128.9256635 ]\n",
      "[1000, 399, 231, 305, 543, 351, 301, 126, 215, 242, 294, 275, 135, 128, 128, 122, 243, 251, 197, 180, 622, 355, 330, 280, 221, 140, 141, 134, 177, 162, 224, 199, 167, 144, 212, 192, 185, 159, 213, 191, 182, 153, 209, 183, 189, 164, 201, 177, 191, 165, 190, 165, 191, 165, 186, 164, 201, 175, 188, 163, 196, 166, 182, 150, 187, 164, 197, 166, 174, 144, 186, 164, 196, 166, 182, 150, 187, 164, 197, 166, 174, 145, 188, 164, 193, 167, 186, 163, 197, 167, 179, 147, 184, 157, 191, 165, 189, 164, 192, 167, 188]\n",
      "[1000, 399, 306, 231, 179, 137, 144, 137, 130, 128, 129, 129, 127, 125, 125, 125, 124, 124, 126, 127, 128, 128, 128, 128, 128, 128, 128, 128, 128, 129, 128, 129, 128, 128, 128, 128, 127, 127, 127, 126, 126, 126, 126, 126, 126, 126, 126, 126, 126, 126, 126, 126, 127, 127, 127, 126, 127, 126, 127, 126, 127, 126, 127, 126, 127, 126, 127, 126, 127, 126, 127, 126, 127, 126, 127, 127, 126, 127, 126, 127, 126, 127, 126, 127, 126, 127, 126, 127, 126, 127, 126, 127, 126, 127, 126, 127, 126, 127, 126, 127, 126]\n"
     ]
    }
   ],
   "source": [
    "ppn = Perceptron(epochs=100.0, eta=1.0)\n",
    "\n",
    "ppn.train(X,y)\n",
    "ppn2.train_annealing_lr(X, y)\n",
    "\n",
    "print(ppn.w_)\n",
    "print(ppn.errors_)"
   ]
  },
  {
   "cell_type": "code",
   "execution_count": 156,
   "metadata": {},
   "outputs": [],
   "source": [
    "f = open(output_file, \"a\")\n",
    "string = \"\"\n",
    "\n",
    "for element_c_lr in ppn.errors_:\n",
    "    string += str(element_c_lr) + \"\\t\"\n",
    "\n",
    "string += \"\\n\"\n",
    "    \n",
    "for element_a_lr in ppn2.errors_:\n",
    "    string += str(element_a_lr) + \"\\t\"\n",
    "\n",
    "f.write(string)\n",
    "f.close()"
   ]
  },
  {
   "cell_type": "code",
   "execution_count": null,
   "metadata": {},
   "outputs": [],
   "source": []
  }
 ],
 "metadata": {
  "kernelspec": {
   "display_name": "Python 3",
   "language": "python",
   "name": "python3"
  },
  "language_info": {
   "codemirror_mode": {
    "name": "ipython",
    "version": 3
   },
   "file_extension": ".py",
   "mimetype": "text/x-python",
   "name": "python",
   "nbconvert_exporter": "python",
   "pygments_lexer": "ipython3",
   "version": "3.6.9"
  }
 },
 "nbformat": 4,
 "nbformat_minor": 2
}
